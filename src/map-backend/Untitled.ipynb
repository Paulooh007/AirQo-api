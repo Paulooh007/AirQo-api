{
 "cells": [
  {
   "cell_type": "code",
   "execution_count": 34,
   "metadata": {},
   "outputs": [
    {
     "name": "stdout",
     "output_type": "stream",
     "text": [
      "<Response 253 bytes [200 OK]>\n"
     ]
    }
   ],
   "source": [
    "import threading\n",
    "from flask import Flask, jsonify\n",
    "\n",
    "app = Flask(__name__)\n",
    "\n",
    "with app.app_context():\n",
    "    print(jsonify(str(threading.enumerate())))"
   ]
  },
  {
   "cell_type": "code",
   "execution_count": 48,
   "metadata": {},
   "outputs": [],
   "source": [
    "response = [str(element) for element in threading.enumerate()]"
   ]
  },
  {
   "cell_type": "code",
   "execution_count": 49,
   "metadata": {},
   "outputs": [
    {
     "data": {
      "text/plain": [
       "['<_MainThread(MainThread, started 55368)>',\n",
       " '<Thread(Thread-4, started daemon 60876)>',\n",
       " '<Heartbeat(Thread-5, started daemon 57080)>',\n",
       " '<HistorySavingThread(IPythonHistorySavingThread, started 61476)>',\n",
       " '<ParentPollerWindows(Thread-3, started daemon 61300)>']"
      ]
     },
     "execution_count": 49,
     "metadata": {},
     "output_type": "execute_result"
    }
   ],
   "source": [
    "response"
   ]
  },
  {
   "cell_type": "code",
   "execution_count": 50,
   "metadata": {},
   "outputs": [],
   "source": [
    "import time\n",
    "t = time.localtime()\n",
    "last_updated = time.strftime(\"%H:%M:%S\", t)"
   ]
  },
  {
   "cell_type": "code",
   "execution_count": 51,
   "metadata": {},
   "outputs": [],
   "source": [
    "response.append(\"<Last updated: {}>\".format(last_updated))"
   ]
  },
  {
   "cell_type": "code",
   "execution_count": 52,
   "metadata": {},
   "outputs": [
    {
     "data": {
      "text/plain": [
       "['<_MainThread(MainThread, started 55368)>',\n",
       " '<Thread(Thread-4, started daemon 60876)>',\n",
       " '<Heartbeat(Thread-5, started daemon 57080)>',\n",
       " '<HistorySavingThread(IPythonHistorySavingThread, started 61476)>',\n",
       " '<ParentPollerWindows(Thread-3, started daemon 61300)>',\n",
       " '<Last updated: 10:13:32>']"
      ]
     },
     "execution_count": 52,
     "metadata": {},
     "output_type": "execute_result"
    }
   ],
   "source": [
    "response"
   ]
  },
  {
   "cell_type": "code",
   "execution_count": null,
   "metadata": {},
   "outputs": [],
   "source": []
  }
 ],
 "metadata": {
  "kernelspec": {
   "display_name": "Python 3",
   "language": "python",
   "name": "python3"
  },
  "language_info": {
   "codemirror_mode": {
    "name": "ipython",
    "version": 3
   },
   "file_extension": ".py",
   "mimetype": "text/x-python",
   "name": "python",
   "nbconvert_exporter": "python",
   "pygments_lexer": "ipython3",
   "version": "3.7.6"
  }
 },
 "nbformat": 4,
 "nbformat_minor": 4
}
